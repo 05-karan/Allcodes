{
 "cells": [
  {
   "cell_type": "markdown",
   "id": "8ccb3da1",
   "metadata": {},
   "source": [
    "# Mohammed Johar Pathariya\n",
    "# 2347004"
   ]
  },
  {
   "cell_type": "markdown",
   "id": "45e39e28",
   "metadata": {},
   "source": [
    "## <center> Assignment 2 <center>\n",
    "Q. Implement a program for retrieval of documents using inverted files."
   ]
  },
  {
   "cell_type": "code",
   "execution_count": 16,
   "id": "b98d226b",
   "metadata": {},
   "outputs": [],
   "source": [
    "#Import libraries\n",
    "import nltk\n",
    "import inflect\n",
    "import string"
   ]
  },
  {
   "cell_type": "code",
   "execution_count": 17,
   "id": "0b833292",
   "metadata": {},
   "outputs": [],
   "source": [
    "# Define the documents\n",
    "document1 = \"The quick brown fox jumped over the lazy dog.\"\n",
    "document2 = \"The lazy dog slept in the sun.\""
   ]
  },
  {
   "cell_type": "code",
   "execution_count": 18,
   "id": "2f47c5a1",
   "metadata": {},
   "outputs": [
    {
     "data": {
      "text/plain": [
       "'The quick brown fox jumped over the lazy dog'"
      ]
     },
     "execution_count": 18,
     "metadata": {},
     "output_type": "execute_result"
    }
   ],
   "source": [
    "# remove punctuation from document1\n",
    "def remove_punctuation(document1):\n",
    "    translator = str.maketrans('', '', string.punctuation)\n",
    "    return document1.translate(translator)\n",
    "\n",
    "document1 = remove_punctuation(document1)\n",
    "\n",
    "document1"
   ]
  },
  {
   "cell_type": "code",
   "execution_count": 19,
   "id": "ede211fb",
   "metadata": {},
   "outputs": [
    {
     "data": {
      "text/plain": [
       "'The lazy dog slept in the sun'"
      ]
     },
     "execution_count": 19,
     "metadata": {},
     "output_type": "execute_result"
    }
   ],
   "source": [
    "# remove punctuation from document2\n",
    "def remove_punctuation(document2):\n",
    "    translator = str.maketrans('', '', string.punctuation)\n",
    "    return document2.translate(translator)\n",
    "\n",
    "document2 = remove_punctuation(document2)\n",
    "\n",
    "document2"
   ]
  },
  {
   "cell_type": "code",
   "execution_count": 20,
   "id": "41d0c73e",
   "metadata": {},
   "outputs": [],
   "source": [
    "# Convert each document to lowercase\n",
    "lower1 = document1.lower()\n",
    "lower2 = document2.lower()"
   ]
  },
  {
   "cell_type": "code",
   "execution_count": 21,
   "id": "a8025807",
   "metadata": {},
   "outputs": [
    {
     "data": {
      "text/plain": [
       "'the quick brown fox jumped over the lazy dog'"
      ]
     },
     "execution_count": 21,
     "metadata": {},
     "output_type": "execute_result"
    }
   ],
   "source": [
    "lower1"
   ]
  },
  {
   "cell_type": "code",
   "execution_count": 22,
   "id": "f8028532",
   "metadata": {},
   "outputs": [
    {
     "data": {
      "text/plain": [
       "'the lazy dog slept in the sun'"
      ]
     },
     "execution_count": 22,
     "metadata": {},
     "output_type": "execute_result"
    }
   ],
   "source": [
    "lower2"
   ]
  },
  {
   "cell_type": "code",
   "execution_count": 23,
   "id": "ac50f4ce",
   "metadata": {},
   "outputs": [],
   "source": [
    "#Tokenize each documents and split it into words\n",
    "tokens1 = lower1.split()\n",
    "tokens2 = lower2.split()"
   ]
  },
  {
   "cell_type": "code",
   "execution_count": 24,
   "id": "59a7cc3a",
   "metadata": {},
   "outputs": [
    {
     "data": {
      "text/plain": [
       "['slept',\n",
       " 'brown',\n",
       " 'dog',\n",
       " 'jumped',\n",
       " 'the',\n",
       " 'lazy',\n",
       " 'sun',\n",
       " 'over',\n",
       " 'quick',\n",
       " 'fox',\n",
       " 'in']"
      ]
     },
     "execution_count": 24,
     "metadata": {},
     "output_type": "execute_result"
    }
   ],
   "source": [
    "# Combine the tokens into a list of unique terms\n",
    "terms = list(set(tokens1 + tokens2))\n",
    "terms"
   ]
  },
  {
   "cell_type": "code",
   "execution_count": 25,
   "id": "19241158",
   "metadata": {},
   "outputs": [
    {
     "name": "stdout",
     "output_type": "stream",
     "text": [
      "['brown', 'dog', 'fox', 'in', 'jumped', 'lazy', 'over', 'quick', 'slept', 'sun', 'the']\n"
     ]
    }
   ],
   "source": [
    "terms = sorted(terms, reverse = False)\n",
    "print(terms)"
   ]
  },
  {
   "cell_type": "code",
   "execution_count": 26,
   "id": "088d58fd",
   "metadata": {},
   "outputs": [
    {
     "name": "stdout",
     "output_type": "stream",
     "text": [
      "brown --> Document 1\n",
      "dog --> Document 1, Document 2\n",
      "fox --> Document 1\n",
      "in --> Document 2\n",
      "jumped --> Document 1\n",
      "lazy --> Document 1, Document 2\n",
      "over --> Document 1\n",
      "quick --> Document 1\n",
      "slept --> Document 2\n",
      "sun --> Document 2\n",
      "the --> Document 1, Document 2\n"
     ]
    }
   ],
   "source": [
    "# Build the inverted index\n",
    "# Create an empty dictionary to store the inverted index\n",
    "inverted_index = {}\n",
    "\n",
    "# For each term, find the documents that contain it\n",
    "for term in terms:\n",
    "    documents = []\n",
    "    if term in tokens1:\n",
    "        documents.append(\"Document 1\")\n",
    "    if term in tokens2:\n",
    "        documents.append(\"Document 2\")\n",
    "    inverted_index[term] = documents\n",
    "\n",
    "# Print the inverted index\n",
    "for term, documents in inverted_index.items():\n",
    "    print(term, \"-->\", \", \".join(documents))"
   ]
  }
 ],
 "metadata": {
  "kernelspec": {
   "display_name": "Python 3 (ipykernel)",
   "language": "python",
   "name": "python3"
  },
  "language_info": {
   "codemirror_mode": {
    "name": "ipython",
    "version": 3
   },
   "file_extension": ".py",
   "mimetype": "text/x-python",
   "name": "python",
   "nbconvert_exporter": "python",
   "pygments_lexer": "ipython3",
   "version": "3.11.4"
  }
 },
 "nbformat": 4,
 "nbformat_minor": 5
}
