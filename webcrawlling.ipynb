{
 "cells": [
  {
   "cell_type": "code",
   "execution_count": 1,
   "id": "b3305f74",
   "metadata": {},
   "outputs": [],
   "source": [
    "import requests\n",
    "from bs4 import BeautifulSoup"
   ]
  },
  {
   "cell_type": "code",
   "execution_count": 6,
   "id": "3ab735d2",
   "metadata": {},
   "outputs": [],
   "source": [
    "def crawl_web(seed_url, max_pages):\n",
    "    pages_visited = 0\n",
    "    url_queue = [seed_url]\n",
    "    \n",
    "    while pages_visited < max_pages and url_queue:\n",
    "        url = url_queue.pop(0)\n",
    "        try:\n",
    "            response = requests.get(url)\n",
    "            if response.status_code == 200:\n",
    "                soup = BeautifulSoup(response.text,'html.parser')\n",
    "                \n",
    "                print(soup.title.string)\n",
    "                \n",
    "                links = [a['href'] for a in soup.find_all('a', href=True)]\n",
    "                for link in links:\n",
    "                    url_queue.append(link)\n",
    "                pages_visited += 1\n",
    "        except Exception as e:\n",
    "            print(f\"Error: {e}\")"
   ]
  },
  {
   "cell_type": "code",
   "execution_count": 7,
   "id": "f7e9c36c",
   "metadata": {},
   "outputs": [
    {
     "name": "stdout",
     "output_type": "stream",
     "text": [
      "Google\n",
      "Google Images\n",
      "Android Apps on Google Play\n",
      "YouTube\n",
      "Google News\n",
      "Gmail\n"
     ]
    }
   ],
   "source": [
    "crawl_web('https://www.google.com',6)"
   ]
  }
 ],
 "metadata": {
  "kernelspec": {
   "display_name": "Python 3 (ipykernel)",
   "language": "python",
   "name": "python3"
  },
  "language_info": {
   "codemirror_mode": {
    "name": "ipython",
    "version": 3
   },
   "file_extension": ".py",
   "mimetype": "text/x-python",
   "name": "python",
   "nbconvert_exporter": "python",
   "pygments_lexer": "ipython3",
   "version": "3.11.4"
  }
 },
 "nbformat": 4,
 "nbformat_minor": 5
}
